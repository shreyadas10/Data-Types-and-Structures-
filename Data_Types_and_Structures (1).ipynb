{
  "nbformat": 4,
  "nbformat_minor": 0,
  "metadata": {
    "colab": {
      "provenance": []
    },
    "kernelspec": {
      "name": "python3",
      "display_name": "Python 3"
    },
    "language_info": {
      "name": "python"
    }
  },
  "cells": [
    {
      "cell_type": "markdown",
      "source": [
        "1. What are data structures, and why are they important\n",
        "-> Data structures are ways to organize, store, and manage data in a computer so that it can be efficiently accessed, modified, and manipulated. They provide a framework for storing and retrieving data, allowing algorithms to operate on the data efficiently.\n",
        "\n",
        "-> Data structures are essential because they:\n",
        "\n",
        "\n",
        "*   Improve Efficiency: Data structures allow algorithms to operate on data efficiently, reducing the time and space complexity of programs.\n",
        "\n",
        "*  Enable Scalability: Data structures can handle large amounts of data, making them suitable for big data applications.\n",
        "*   Support Data Integrity: Data structures help maintain data consistency and accuracy by providing mechanisms for data validation and error handling.\n",
        "\n",
        "*  Facilitate Data Retrieval: Data structures provide efficient ways to retrieve data, making it easier to access and manipulate data.\n",
        "*   Enhance Code Readability: Data structures help organize code, making it easier to understand and maintain.\n",
        "\n",
        "-> There are two types of Data Structures in Python:\n",
        "\n",
        "Built-in Data structures - Lists,Set,Dictionary,Tuple etc.  \n",
        "Abstract Data Structures - Arrays,Linked Lists,Trees,Graphs etc.\n",
        "\n",
        "\n",
        "\n",
        "\n",
        "\n"
      ],
      "metadata": {
        "id": "cUs7Gi45uiS3"
      }
    },
    {
      "cell_type": "markdown",
      "source": [
        "2. Explain the difference between mutable and immutable data types with examples\n",
        "\n",
        "-> In Python, data types can be classified into two main categories: mutable and immutable.\n",
        "\n",
        "->MUTABLE DATA TYPES:\n",
        "\n",
        "->Mutable data types are those that can be modified or changed after they are created. Examples of mutable data types in Python include:\n",
        "\n",
        "\n",
        "\n",
        "*  Lists: [1, 2, 3]\n",
        "*   Dictionaries: {\"name\": \"Shreya\", \"age\": 20}\n",
        "*   Sets: {1, 2, 3}\n",
        "  \n",
        "EXAMPLE :-\n",
        "\n",
        "my_list = [1,2,3] my_list[2] = 4  #modifying the list   \n",
        "print(my_list) #[1,2,4]\n",
        "\n",
        "-> IMMUTABLE DATA TYPE:\n",
        "\n",
        "-> mmutable data types, on the other hand, cannot be modified or changed after they are created. Examples of immutable data types in Python include:\n",
        "\n",
        "*  Integers: 1, 2, 3\n",
        "*   Floats: 3.14, -0.5\n",
        "*   Strings: \"hello\", 'hello'\n",
        "*   Tuples: (1, 2, 3)\n",
        "\n",
        "EXAMPLE :-\n",
        "\n",
        "my_string = \"hello\" my_string[0] =\"k\" print(my_string) #error\n",
        "\n",
        "  TypeError:'str' object does not support item assignment\n",
        "\n",
        "\n",
        "\n",
        "\n",
        "\n"
      ],
      "metadata": {
        "id": "226fLG8avsXC"
      }
    },
    {
      "cell_type": "markdown",
      "source": [
        "3. What are the main differences between lists and tuples in Python?\n",
        "\n",
        "-> In Python, lists and tuples are two types of data structures that can store multiple values. While they share some similarities, there are key differences between them:\n",
        "\n",
        "*  Immutability\n",
        "\n",
        "\n",
        "\n",
        "\n",
        "Tuples: Tuples are immutable, meaning their contents cannot be modified after creation.\n",
        "\n",
        "Lists: Lists are mutable, meaning their contents can be modified after creation.\n",
        "\n",
        "\n",
        "*   Syntax\n",
        "\n",
        "Tuples: Tuples are defined using parentheses () and elements are separated by commas.  \n",
        "Lists: Lists are defined using square brackets [] and elements are separated by commas.\n",
        "\n",
        "\n",
        "\n",
        "*  Performance\n",
        "\n",
        "\n",
        "Tuples: Tuples are faster and more memory-efficient than lists because they are immutable.  \n",
        "Lists: Lists are slower and less memory-efficient than tuples because they are mutable.\n",
        "\n",
        "\n",
        "*  Methods\n",
        "\n",
        "Tuples: Tuples have limited methods, such as index() and count().   \n",
        "Lists: Lists have many methods, such as append(), insert(), remove(),sort(),etc."
      ],
      "metadata": {
        "id": "URgOdLkJw7fz"
      }
    },
    {
      "cell_type": "markdown",
      "source": [
        "4. Describe how dictionaries store data.\n",
        "\n",
        "-> Dictionaries are used to store data values in key:value pairs. A dictionary is a collection which is ordered, changeable and do not allow duplicates."
      ],
      "metadata": {
        "id": "EABi2RSyx1JC"
      }
    },
    {
      "cell_type": "markdown",
      "source": [
        "5. Why might you use a set instead of a list in Python ?\n",
        "\n",
        "-> Using set instead of list can be beneficial for several reasons:\n",
        "\n",
        "*   Uniqueness of Elements:-\n",
        "Sets automatically eliminate duplicate values, ensuring that each element is unique.     \n",
        "\n",
        "*   Faster Membership Testing:-   \n",
        "Checking if an element is in a set is faster than checking if it's in a list, especially for large datasets.\n",
        "\n",
        "* Efficient Union, Intersection, and Difference Operations:-    \n",
        "Sets provide built-in methods for performing mathematical operations like union, intersection, and difference, making them ideal for tasks like data filtering and aggregation.\n",
        "\n",
        "\n",
        "* Reduced Memory Usage:-\n",
        "\n",
        "  Sets typically use less memory than lists, especially when dealing with large amounts of data.\n",
        "\n",
        "\n",
        "* Improved Code Readability:-    \n",
        "\n",
        "  Using sets can make your code more readable by clearly conveying that a collection of unique elements is being used."
      ],
      "metadata": {
        "id": "2l1aiNTmx55A"
      }
    },
    {
      "cell_type": "markdown",
      "source": [
        "6. What is a string in Python, and how is it different from a list ?\n",
        "\n",
        "-> In Python, a string is a sequence of characters, such as letters, numbers, or symbols. Strings are enclosed in quotes (single, double, or triple) and are immutable, meaning their contents cannot be modified after creation.\n",
        "\n",
        "Example: \"hello\", 'hello world', \"\"\"This is a multi-line string.\"\"\"\n",
        "\n",
        "On the other hand, a list is a collection of items that can be of any data type, including strings, integers, floats, and other lists. Lists are enclosed in square brackets [] and are mutable, meaning their contents can be modified after creation.\n",
        "\n",
        "Example: [1, 2, 3], [\"apple\", \"banana\", \"cherry\"], [1, \"hello\", 3.14]\n",
        "\n",
        "Here are the main differences between strings and lists:\n",
        "\n",
        "*   Immutability: Strings are immutable, while lists are mutable.\n",
        "*   Data Type: Strings can only contain characters, while lists can contain any data type.\n",
        "*   Syntax: Strings are enclosed in quotes, while lists are enclosed in square brackets.\n",
        "*   Indexing: Both strings and lists can be indexed, but strings are more limited in their indexing capabilities.\n",
        "* Methods: Strings and lists have different methods available. For example, strings have methods like upper() and lower(), while lists have methods like append() and sort().\n",
        "\n",
        "\n",
        "\n",
        "\n"
      ],
      "metadata": {
        "id": "rwBj5tiZkSpf"
      }
    },
    {
      "cell_type": "markdown",
      "source": [
        "7. How do tuples ensure data integrity in Python ?\n",
        "-> In Python, tuples ensure data integrity in several ways:\n",
        "\n",
        "\n",
        "* Immutability: Tuples are immutable, meaning their contents cannot be modified after creation. This ensures that once a tuple is created, its data remains consistent and cannot be altered.  \n",
        "*  Prevention of accidental changes: Because tuples are immutable it can't accidentally be modified. This reduces the risk of data corruption or unintended changes.\n",
        "*   Thread safety: Tuples are thread-safe, meaning they can be safely accessed and used by multiple threads without fear of data corruption or inconsistency.\n",
        "*  Hashability: Tuples are hashable, which means they can be used as dictionary keys. This allows us to use tuples to store and retrieve data in a dictionary, ensuring data integrity.\n",
        "*  Code clarity and readability: Using tuples can make code more readable and maintainable.\n",
        "\n",
        "\n",
        "\n",
        "\n",
        "\n",
        "\n"
      ],
      "metadata": {
        "id": "mx72Bvmmk4iB"
      }
    },
    {
      "cell_type": "markdown",
      "source": [
        "8. What is a hash table, and how does it relate to dictionaries in Python ?\n",
        "-> A hash table (also known as a hash map or dictionary) is a data structure that stores key-value pairs in a way that allows for efficient lookup, insertion, and deletion of elements.\n",
        "\n",
        "Here's how it works:\n",
        "*   Keys are unique identifiers (e.g., strings, integers) that are used to store and retrieve values.\n",
        "*   Values are the data associated with each key.\n",
        "*  Hash function is used to map each key to a specific index (or \"bucket\") in the hash table.\n",
        "\n",
        "-> In Python, dictionaries are implemented using hash tables. When you create a dictionary, Python creates a hash table behind the scenes to store the key-value pairs. An example :-  \n",
        "my_dict = {\"name\": \"shreya\", \"age\": 30}\n",
        "\n"
      ],
      "metadata": {
        "id": "D7BeCCdZld5X"
      }
    },
    {
      "cell_type": "markdown",
      "source": [
        "9. Can lists contain different data types in Python ?\n",
        "->Yes, lists in Python can contain different data types. This is one of the key features of Python lists, making them very flexible and useful.\n",
        "\n",
        "An example of a list containing different data types:\n",
        "\n",
        "my_list = [1, \"hello\", 3.14, True, [1, 2, 3], {\"name\": \"shreya\"}]\n",
        "\n",
        "In this example, the list my_list contains:\n",
        "\n",
        "- An integer (1)\n",
        "- A string (\"hello\")\n",
        "- A floating-point number (3.14)\n",
        "- A boolean value (True)\n",
        "- Another list ([1, 2, 3])\n",
        "- A dictionary ({\"name\": \"shreya\"})"
      ],
      "metadata": {
        "id": "EO8FkmHcfeVN"
      }
    },
    {
      "cell_type": "markdown",
      "source": [
        "10. Explain why strings are immutable in Python ?\n",
        "-> In Python, strings are immutable, meaning their contents cannot be modified after creation:\n",
        "\n",
        "\n",
        "*  Security: Immutable strings prevent unintended changes to sensitive data, reducing the risk of security vulnerabilities.\n",
        "\n",
        "*   Thread Safety: Since strings are immutable, multiple threads can access and manipulate the same string without fear of data corruption or inconsistency.\n",
        "\n",
        "*   Hashing and Caching: Immutable strings can be safely hashed and cached, which improves performance in applications that rely heavily on string processing.\n",
        "\n",
        "*   Code Predictability: Immutable strings make code behavior more predictable, as developers can rely on the fact that a string's contents will not change unexpectedly.\n",
        "\n",
        "*   Memory Efficiency: Immutable strings can be stored more efficiently in memory, as multiple variables can reference the same string object without worrying about modifications.\n",
        "\n",
        "*   Simplified Memory Management: Immutable strings simplify memory management, as Python's garbage collector can efficiently manage string objects without worrying about modifications.\n",
        "\n",
        "\n",
        "\n",
        "\n",
        "\n",
        "\n",
        "\n",
        "\n",
        "\n",
        "\n",
        "\n",
        "\n"
      ],
      "metadata": {
        "id": "PByoVvGimUDQ"
      }
    },
    {
      "cell_type": "markdown",
      "source": [
        "11. What advantages do dictionaries offer over lists for certain tasks ?\n",
        "-> Dictionaries offer several advantages over lists for certain tasks:\n",
        "\n",
        "\n",
        "*  Fast Lookups: Dictionaries provide fast lookups, with an average time complexity of O(1), making them ideal for tasks that require frequent lookups.\n",
        "\n",
        "*  Key-Value Association: Dictionaries allow us to associate keys with values, making it easy to store and retrieve data.\n",
        "\n",
        "*   Efficient Data Storage: Dictionaries can store large amounts of data efficiently, especially when dealing with sparse data.\n",
        "*   Improved Code Readability: Dictionaries can make our code more readable by providing a clear and concise way to store and access data.\n",
        "* Reduced Errors: Dictionaries reduce the likelihood of errors caused by indexing mistakes, as we access data using keys rather than indices.  \n",
        "*  Flexible Data Structure: Dictionaries can store various data types, including strings, integers, floats, and other dictionaries.\n",
        "\n",
        "\n"
      ],
      "metadata": {
        "id": "GHAbdGZWnDS_"
      }
    },
    {
      "cell_type": "markdown",
      "source": [
        "12. Describe a scenario where using a tuple would be preferable over a list\n",
        "->  A scenario where a project involves storing and manipulating dates.Where i want to represent a date as a collection of three values: year, month, and day.\n",
        "\n",
        "-> Example:  \n",
        "\n",
        "  #Using a tuple to represent a date  \n",
        "date = (05,01,2025)\n",
        "\n",
        "  #Accessing the date values  \n",
        " date, month,year= date   \n",
        "print(f\"Date : {date}, Month : {month}, Year : {year}\")\n",
        "\n",
        "\n",
        "In this example, using a tuple to represent the date ensures that the values remain unchanged and provides a clear and readable way to access the date components.\n"
      ],
      "metadata": {
        "id": "oZr_HbgUhHkF"
      }
    },
    {
      "cell_type": "markdown",
      "source": [
        "13. How do sets handle duplicate values in Python ?\n",
        "-> In Python, sets automatically eliminate duplicate values. When trying to add a duplicate value to a set, it is simply ignored.\n",
        "\n",
        "Here's an example:\n",
        "\n",
        "\n",
        "my_set = {1, 2, 3, 2, 4, 4, 5}   \n",
        "print(my_set)  # Output: {1, 2, 3, 4, 5}"
      ],
      "metadata": {
        "id": "RSLFTYxejY6k"
      }
    },
    {
      "cell_type": "markdown",
      "source": [],
      "metadata": {
        "id": "9zy2BbTen7X3"
      }
    },
    {
      "cell_type": "markdown",
      "source": [
        "14. How does the “in” keyword work differently for lists and dictionaries ?\n",
        "\n",
        "-> The in keyword in Python works differently for lists and dictionaries:\n",
        "\n",
        "Lists\n",
        "\n",
        "For lists, the in keyword checks if a specific value exists within the list. It iterates through each element in the list and returns True if it finds a match, and False otherwise.\n",
        "\n",
        "Example\n",
        "\n",
        "\n",
        "my_list = [1, 2, 3, 4, 5]  \n",
        "print(3 in my_list)  # Output: True  \n",
        "print(6 in my_list)  # Output: False\n",
        "\n",
        "\n",
        "Dictionaries\n",
        "\n",
        "For dictionaries, the in keyword checks if a specific key exists within the dictionary. It does not check for values.\n",
        "Example\n",
        "\n",
        "\n",
        "my_dict = {\"name\": \"Amit\", \"age\": 30}  \n",
        "print(\"name\" in my_dict)  # Output: True  \n",
        "print(\"city\" in my_dict)  # Output: False\n"
      ],
      "metadata": {
        "id": "Kazm08Hpj_Wk"
      }
    },
    {
      "cell_type": "markdown",
      "source": [
        "15. Can you modify the elements of a tuple? Explain why or why not\n",
        "-> No, you cannot modify the elements of a tuple in Python.\n",
        "\n",
        "Tuples are immutable data structures, which means that once a tuple is created, its contents cannot be changed. This is in contrast to lists, which are mutable and can be modified after creation.\n",
        "\n",
        "-> If try to modify a tuple, it will get a TypeError. For example:\n",
        "\n",
        "\n",
        "my_tuple = (1, 2, 3)  \n",
        "my_tuple[0] = 10  #Raises TypeError\n",
        "\n",
        "-> However, if a tuple contains mutable elements, such as lists or dictionaries, those elements can still be modified. For example:\n",
        "\n",
        "\n",
        "my_tuple = (1, [2, 3], {\"a\": 4})  \n",
        "my_tuple[1].append(5)  # Modifies the list  \n",
        "my_tuple[2][\"b\"] = 6  # Modifies the dictionary  \n",
        "print(my_tuple)  # Output: (1, [2, 3, 5], {'a': 4, 'b': 6})\n"
      ],
      "metadata": {
        "id": "c_O_r6kdkq9E"
      }
    },
    {
      "cell_type": "markdown",
      "source": [
        "16. What is a nested dictionary, and give an example of its use case ?\n",
        "-> A nested dictionary is a dictionary that contains another dictionary as its value. This allows for a hierarchical organization of data, where each inner dictionary represents a subset of data related to the outer dictionary.\n",
        "\n",
        "Here's an example of a nested dictionary:\n",
        "\n",
        "students = {\n",
        "    \"name\": \"Amit\"\n",
        "        \"age\": 20,\n",
        "        \"courses\":{\n",
        "           [\"Math\", \"Science\", \"English\"]\n",
        "    }\n",
        "    \n",
        "\n",
        "}\n",
        "\n",
        "\n",
        "\n",
        "-> Use cases for nested dictionaries include:\n",
        "\n",
        "\n",
        "*   Data storage and organization: Nested dictionaries can be used to store complex, hierarchical data in a structured and organized manner.\n",
        "\n",
        "*   Configuration files: Nested dictionaries can be used to represent configuration data, where each inner dictionary represents a specific configuration section.\n",
        "*   Game development: Nested dictionaries can be used to represent game data, such as character stats, inventory, and skills.\n",
        "\n",
        "\n",
        "*   Scientific simulations: Nested dictionaries can be used to represent complex simulation data, such as experimental conditions, parameters, and results\n",
        "\n",
        "\n"
      ],
      "metadata": {
        "id": "BmBcq1DkoPmw"
      }
    },
    {
      "cell_type": "markdown",
      "source": [
        "17.  Describe the time complexity of accessing elements in a dictionary\n",
        "-> The time complexity of accessing elements in a dictionary (also known as a hash table) is O(1), which means that the time it takes to access an element is constant and does not depend on the size of the dictionary."
      ],
      "metadata": {
        "id": "269qMEXKnFre"
      }
    },
    {
      "cell_type": "markdown",
      "source": [
        "18. In what situations are lists preferred over dictionaries ?\n",
        "->Lists are preferred over dictionaries in the following situations:\n",
        "\n",
        "\n",
        "*   Ordered Data: When the order of the data matters, lists are preferred. Dictionaries are inherently unordered data structures\n",
        "\n",
        "*  Indexed Access: When you need to access elements by their index, lists are more suitable. Lists support indexing, slicing, and other sequence operations.\n",
        "\n",
        "*   Dynamic Size: When the size of the data structure needs to change dynamically, lists are more flexible. Lists can be easily appended, inserted, or removed.\n",
        "\n",
        "*  Performance-Critical Code: In performance-critical code, lists can be faster than dictionaries due to their simpler implementation and cache-friendly memory layout.\n",
        "* Serialization and Deserialization: Lists are often easier to serialize and deserialize than dictionaries, especially when working with binary formats.\n",
        "\n",
        "*  Simple Data Structures: When working with simple data structures, such as a collection of numbers or strings, lists are often sufficient and easier to work with\n",
        "\n",
        "*  Algorithmic Operations: Lists support various algorithmic operations like sorting, reversing, and iterating, which are not directly applicable to dictionaries.\n",
        "\n"
      ],
      "metadata": {
        "id": "ojF0Uz4OqrT5"
      }
    },
    {
      "cell_type": "markdown",
      "source": [
        "19. Why are dictionaries considered unordered, and how does that affect data retrieval ?\n",
        "-> Dictionaries are considered unordered because the order in which key-value pairs are stored and retrieved is not guaranteed. This is due to the way dictionaries are implemented in Python:\n",
        "\n",
        "\n",
        "* Hash Table: Dictionaries are implemented as hash tables, which store key-value pairs in an array using a hash function to map keys to indices.\n",
        "\n",
        "*   Hash Collisions: When two keys hash to the same index, a collision occurs. To resolve collisions, Python uses a technique called open addressing, which involves probing other indices in the array until an empty slot is found.\n",
        "*   Key Ordering: Due to the hashing and collision resolution process, the order in which keys are stored in the dictionary is not necessarily the same as the order in which they were inserted.\n",
        "\n",
        "\n",
        "\n",
        "\n"
      ],
      "metadata": {
        "id": "qnn4c81VrOAJ"
      }
    },
    {
      "cell_type": "markdown",
      "source": [
        "20. Explain the difference between a list and a dictionary in terms of data retrieval.\n",
        "-> The differences between lists and dictionaries in terms of data retrieval:\n",
        "\n",
        "Lists\n",
        "\n",
        "\n",
        "*   Index-based retrieval: In lists, data is retrieved using its index (position) in the list. Indexing starts at 0.\n",
        "\n",
        "*   Sequential access: Lists are designed for sequential access,elements can be accessed in a specific order (e.g., iterating through the list).\n",
        "*   Fast lookup by index: Lists provide fast lookup times when accessing elements by their index.\n",
        "\n",
        "\n",
        "*   Slow lookup by value: However, finding an element by its value can be slower, especially for large lists.\n",
        "\n",
        "\n",
        "Dictionaries\n",
        "\n",
        "\n",
        "\n",
        "*  Key-based retrieval: In dictionaries, data is retrieved using its key (a unique identifier). Keys can be strings, integers, or other immutable types.\n",
        "\n",
        "*   Random access: Dictionaries provide random access,elements can be accessed directly using their key.\n",
        "*   Fast lookup by key: Dictionaries offer fast lookup times when accessing elements by their key.\n",
        "\n",
        "\n",
        "*  No indexing: Unlike lists, dictionaries do not support indexing (accessing elements by their position).\n",
        "\n",
        "\n"
      ],
      "metadata": {
        "id": "IuzP8NqErd66"
      }
    },
    {
      "cell_type": "markdown",
      "source": [
        "**PRACTICAL QUESTIONS**"
      ],
      "metadata": {
        "id": "qvnhkmZ9pmJG"
      }
    },
    {
      "cell_type": "markdown",
      "source": [
        "1. Write a code to create a string with your name and print it."
      ],
      "metadata": {
        "id": "PmQGmXzRsIpg"
      }
    },
    {
      "cell_type": "code",
      "source": [
        "my_name = \"shreya\"\n",
        "print(my_name)\n"
      ],
      "metadata": {
        "colab": {
          "base_uri": "https://localhost:8080/"
        },
        "id": "nrcC2NoIoElH",
        "outputId": "c50fa07b-fed1-43db-9379-136df88044a6"
      },
      "execution_count": 1,
      "outputs": [
        {
          "output_type": "stream",
          "name": "stdout",
          "text": [
            "shreya\n"
          ]
        }
      ]
    },
    {
      "cell_type": "markdown",
      "source": [
        "2. Write a code to find the length of the string \"Hello World\""
      ],
      "metadata": {
        "id": "jMuNXGTGsUEH"
      }
    },
    {
      "cell_type": "code",
      "source": [
        "word = \"Hello World\"\n",
        "print(\"the length of the string is\" , len(word))"
      ],
      "metadata": {
        "colab": {
          "base_uri": "https://localhost:8080/"
        },
        "id": "6FmxWXkOsYEb",
        "outputId": "4c620481-db77-470c-eab1-22673e226a73"
      },
      "execution_count": 2,
      "outputs": [
        {
          "output_type": "stream",
          "name": "stdout",
          "text": [
            "the length of the string is 11\n"
          ]
        }
      ]
    },
    {
      "cell_type": "markdown",
      "source": [
        "3. Write a code to slice the first 3 characters from the string \"Python Programming\""
      ],
      "metadata": {
        "id": "A8a-EZ6Gsb6I"
      }
    },
    {
      "cell_type": "code",
      "source": [
        "ch = \"Python Programming\"\n",
        "print(ch[3:len(ch)])"
      ],
      "metadata": {
        "colab": {
          "base_uri": "https://localhost:8080/"
        },
        "id": "nmIat0GssbjI",
        "outputId": "331dc5ea-544c-4df6-cc40-f2b202fbed1a"
      },
      "execution_count": 3,
      "outputs": [
        {
          "output_type": "stream",
          "name": "stdout",
          "text": [
            "hon Programming\n"
          ]
        }
      ]
    },
    {
      "cell_type": "markdown",
      "source": [
        "4. Write a code to convert the string \"hello\" to uppercase"
      ],
      "metadata": {
        "id": "fvFlOGEWsi9Y"
      }
    },
    {
      "cell_type": "code",
      "source": [
        "code = \"hello\"\n",
        "\n",
        "print(code.upper())"
      ],
      "metadata": {
        "colab": {
          "base_uri": "https://localhost:8080/"
        },
        "id": "ASYOvILKsl0r",
        "outputId": "d0decafa-ef7b-4954-e3ca-bb129d2c9944"
      },
      "execution_count": 4,
      "outputs": [
        {
          "output_type": "stream",
          "name": "stdout",
          "text": [
            "HELLO\n"
          ]
        }
      ]
    },
    {
      "cell_type": "markdown",
      "source": [
        "5. Write a code to replace the word \"apple\" with \"orange\" in the string \"I like apple\""
      ],
      "metadata": {
        "id": "QMCIqQtQsuPH"
      }
    },
    {
      "cell_type": "code",
      "source": [
        "sentence = \"I like apple\"\n",
        "new_sentence = sentence.replace(\"apple\",\"orange\")\n",
        "print(new_sentence)"
      ],
      "metadata": {
        "colab": {
          "base_uri": "https://localhost:8080/"
        },
        "id": "TJqHLf3Hswtq",
        "outputId": "bab6d0e0-c1f4-4164-a184-63a20a467050"
      },
      "execution_count": 5,
      "outputs": [
        {
          "output_type": "stream",
          "name": "stdout",
          "text": [
            "I like orange\n"
          ]
        }
      ]
    },
    {
      "cell_type": "markdown",
      "source": [
        "6. Write a code to create a list with numbers 1 to 5 and print it"
      ],
      "metadata": {
        "id": "egWzpl6Fs0Ug"
      }
    },
    {
      "cell_type": "code",
      "source": [
        "lst = []\n",
        "for i in range(1,6):\n",
        "  lst.append(i)\n",
        "print(lst)"
      ],
      "metadata": {
        "colab": {
          "base_uri": "https://localhost:8080/"
        },
        "id": "XTT4zBycs3RD",
        "outputId": "4c407b4e-0cbd-45a1-d243-055dbcc9b9c9"
      },
      "execution_count": 6,
      "outputs": [
        {
          "output_type": "stream",
          "name": "stdout",
          "text": [
            "[1, 2, 3, 4, 5]\n"
          ]
        }
      ]
    },
    {
      "cell_type": "markdown",
      "source": [
        "7. Write a code to append the number 10 to the list [1, 2, 3, 4]"
      ],
      "metadata": {
        "id": "I4WXoxOOs6uw"
      }
    },
    {
      "cell_type": "code",
      "source": [
        "lst = [1,2,3,4]\n",
        "lst.append(10)\n",
        "print(lst)"
      ],
      "metadata": {
        "colab": {
          "base_uri": "https://localhost:8080/"
        },
        "id": "IWP2xNAcs9Ih",
        "outputId": "9cea896f-7231-4338-dc65-a71e3296346e"
      },
      "execution_count": 7,
      "outputs": [
        {
          "output_type": "stream",
          "name": "stdout",
          "text": [
            "[1, 2, 3, 4, 10]\n"
          ]
        }
      ]
    },
    {
      "cell_type": "markdown",
      "source": [
        "8. Write a code to remove the number 3 from the list [1, 2, 3, 4, 5]"
      ],
      "metadata": {
        "id": "pzwo0SUHtAgX"
      }
    },
    {
      "cell_type": "code",
      "source": [
        "lst = [1, 2, 3, 4, 5]\n",
        "lst.remove(3)\n",
        "print(lst)"
      ],
      "metadata": {
        "colab": {
          "base_uri": "https://localhost:8080/"
        },
        "id": "caxzxT4QtDEj",
        "outputId": "e83a6fc8-d6db-4b64-d0c3-946234d03e45"
      },
      "execution_count": 8,
      "outputs": [
        {
          "output_type": "stream",
          "name": "stdout",
          "text": [
            "[1, 2, 4, 5]\n"
          ]
        }
      ]
    },
    {
      "cell_type": "markdown",
      "source": [
        "9. Write a code to access the second element in the list ['a', 'b', 'c', 'd']"
      ],
      "metadata": {
        "id": "7rpVcsF-tGRS"
      }
    },
    {
      "cell_type": "code",
      "source": [
        "lst = ['a', 'b', 'c', 'd']\n",
        "print(lst[1])"
      ],
      "metadata": {
        "colab": {
          "base_uri": "https://localhost:8080/"
        },
        "id": "nt8ZmLJBtI5r",
        "outputId": "9e69f146-c976-40d1-d955-3e4913176a82"
      },
      "execution_count": 9,
      "outputs": [
        {
          "output_type": "stream",
          "name": "stdout",
          "text": [
            "b\n"
          ]
        }
      ]
    },
    {
      "cell_type": "markdown",
      "source": [
        "10. Write a code to reverse the list [10, 20, 30, 40, 50]."
      ],
      "metadata": {
        "id": "V6z5fJZ-tMxZ"
      }
    },
    {
      "cell_type": "code",
      "source": [
        "numbers = [10, 20, 30, 40, 50]\n",
        "numbers.reverse()\n",
        "print(numbers)"
      ],
      "metadata": {
        "colab": {
          "base_uri": "https://localhost:8080/"
        },
        "id": "O8fWswqFtPq7",
        "outputId": "a6764b9a-93aa-42a9-aa84-923773fde6aa"
      },
      "execution_count": 10,
      "outputs": [
        {
          "output_type": "stream",
          "name": "stdout",
          "text": [
            "[50, 40, 30, 20, 10]\n"
          ]
        }
      ]
    },
    {
      "cell_type": "markdown",
      "source": [
        "11. Write a code to create a tuple with the elements 10, 20, 30 and print it."
      ],
      "metadata": {
        "id": "0zLH0ZnGtS4m"
      }
    },
    {
      "cell_type": "code",
      "source": [
        "elements = (10,20,30)\n",
        "print(elements)"
      ],
      "metadata": {
        "colab": {
          "base_uri": "https://localhost:8080/"
        },
        "id": "a-5dvfxbtVi-",
        "outputId": "b7486dc0-7ec3-49d3-cf2d-e0e6b935cfb4"
      },
      "execution_count": 11,
      "outputs": [
        {
          "output_type": "stream",
          "name": "stdout",
          "text": [
            "(10, 20, 30)\n"
          ]
        }
      ]
    },
    {
      "cell_type": "markdown",
      "source": [
        "12. Write a code to access the first element of the tuple ('apple', 'banana', 'cherry')"
      ],
      "metadata": {
        "id": "1gTbKRyWtYrI"
      }
    },
    {
      "cell_type": "code",
      "source": [
        "fruits = ('apple', 'banana', 'cherry')\n",
        "print(fruits[0])"
      ],
      "metadata": {
        "colab": {
          "base_uri": "https://localhost:8080/"
        },
        "id": "Zp0W6NJZtb7C",
        "outputId": "c99492a0-bde8-409d-ab70-3c9196bc8523"
      },
      "execution_count": 12,
      "outputs": [
        {
          "output_type": "stream",
          "name": "stdout",
          "text": [
            "apple\n"
          ]
        }
      ]
    },
    {
      "cell_type": "markdown",
      "source": [
        "13. Write a code to count how many times the number 2 appears in the tuple (1, 2, 3, 2, 4, 2)"
      ],
      "metadata": {
        "id": "6BWoM7LAtfPR"
      }
    },
    {
      "cell_type": "code",
      "source": [
        "num = (1, 2, 3, 2, 4, 2)\n",
        "print(\"the number 2 has appeared\", num.count(2), \"times\")"
      ],
      "metadata": {
        "colab": {
          "base_uri": "https://localhost:8080/"
        },
        "id": "GW4W37LHticE",
        "outputId": "cab6e45e-f19f-4b2c-f06b-bfeee1f7df1c"
      },
      "execution_count": 13,
      "outputs": [
        {
          "output_type": "stream",
          "name": "stdout",
          "text": [
            "the number 2 has appeared 3 times\n"
          ]
        }
      ]
    },
    {
      "cell_type": "markdown",
      "source": [
        "14. Write a code to find the index of the element \"cat\" in the tuple ('dog', 'cat', 'rabbit')."
      ],
      "metadata": {
        "id": "U1724UAttlkR"
      }
    },
    {
      "cell_type": "code",
      "source": [
        "animals = ('dog', 'cat', 'rabbit')\n",
        "print(\"the index of the element cat is\",animals.index(\"cat\"))"
      ],
      "metadata": {
        "colab": {
          "base_uri": "https://localhost:8080/"
        },
        "id": "kZs2mInKtpwO",
        "outputId": "dd08ead2-67fa-4543-e98d-0594a4e945c7"
      },
      "execution_count": 14,
      "outputs": [
        {
          "output_type": "stream",
          "name": "stdout",
          "text": [
            "the index of the element cat is 1\n"
          ]
        }
      ]
    },
    {
      "cell_type": "markdown",
      "source": [
        "15. Write a code to check if the element \"banana\" is in the tuple ('apple', 'orange', 'banana')."
      ],
      "metadata": {
        "id": "73QiExAVtt7I"
      }
    },
    {
      "cell_type": "code",
      "source": [
        "fruits = ('apple', 'orange', 'banana')\n",
        "if \"banana\" in fruits:\n",
        "  print(\"yes\")\n",
        "else:\n",
        "  print(\"no\")"
      ],
      "metadata": {
        "colab": {
          "base_uri": "https://localhost:8080/"
        },
        "id": "KyDRQ-9ntwwU",
        "outputId": "3bc0de5f-dd4e-45e7-cb44-ec41970fe0c9"
      },
      "execution_count": 15,
      "outputs": [
        {
          "output_type": "stream",
          "name": "stdout",
          "text": [
            "yes\n"
          ]
        }
      ]
    },
    {
      "cell_type": "markdown",
      "source": [
        "16. Write a code to create a set with the elements 1, 2, 3, 4, 5 and print it."
      ],
      "metadata": {
        "id": "7ng4JDLit1Cw"
      }
    },
    {
      "cell_type": "code",
      "source": [
        "nums = {1,2,3,4,5}\n",
        "print(nums)"
      ],
      "metadata": {
        "colab": {
          "base_uri": "https://localhost:8080/"
        },
        "id": "0Uzunjp0t46W",
        "outputId": "f1db3b00-924b-4162-d46c-5931ca0dbac4"
      },
      "execution_count": 16,
      "outputs": [
        {
          "output_type": "stream",
          "name": "stdout",
          "text": [
            "{1, 2, 3, 4, 5}\n"
          ]
        }
      ]
    },
    {
      "cell_type": "markdown",
      "source": [
        "17. Write a code to add the element 6 to the set {1, 2, 3, 4}"
      ],
      "metadata": {
        "id": "up_jXynquL64"
      }
    },
    {
      "cell_type": "code",
      "source": [
        "elements = {1,2,3,4}\n",
        "elements.add(6)\n",
        "print(elements)"
      ],
      "metadata": {
        "colab": {
          "base_uri": "https://localhost:8080/"
        },
        "id": "AqLZLSPQuO_N",
        "outputId": "a0404563-fe87-4cba-ba33-18ee78ff7e04"
      },
      "execution_count": 17,
      "outputs": [
        {
          "output_type": "stream",
          "name": "stdout",
          "text": [
            "{1, 2, 3, 4, 6}\n"
          ]
        }
      ]
    },
    {
      "cell_type": "markdown",
      "source": [
        "18. Write a code to create a tuple with the elements 10, 20, 30 and print it."
      ],
      "metadata": {
        "id": "EEiwyZk7uTrh"
      }
    },
    {
      "cell_type": "code",
      "source": [
        "numbers = (10,20,30)\n",
        "print(numbers)"
      ],
      "metadata": {
        "colab": {
          "base_uri": "https://localhost:8080/"
        },
        "id": "lfYTeXOguWsB",
        "outputId": "7e81ff0b-cda6-42f7-87da-4475d77c6f93"
      },
      "execution_count": 18,
      "outputs": [
        {
          "output_type": "stream",
          "name": "stdout",
          "text": [
            "(10, 20, 30)\n"
          ]
        }
      ]
    },
    {
      "cell_type": "markdown",
      "source": [
        "19. Write a code to access the first element of the tuple ('apple', 'banana', 'cherry')"
      ],
      "metadata": {
        "id": "YUGXPAcWuZ9W"
      }
    },
    {
      "cell_type": "code",
      "source": [
        "fruits = ('apple', 'banana', 'cherry')\n",
        "print(fruits[0])"
      ],
      "metadata": {
        "colab": {
          "base_uri": "https://localhost:8080/"
        },
        "id": "H6YQOyWUucx8",
        "outputId": "33620527-c921-473e-f976-e88a81e03320"
      },
      "execution_count": 19,
      "outputs": [
        {
          "output_type": "stream",
          "name": "stdout",
          "text": [
            "apple\n"
          ]
        }
      ]
    },
    {
      "cell_type": "markdown",
      "source": [
        "20. Write a code to count how many times the number 2 appears in the tuple (1, 2, 3, 2, 4, 2)"
      ],
      "metadata": {
        "id": "I87JiK9HugMg"
      }
    },
    {
      "cell_type": "code",
      "source": [
        "t_ple = (1, 2, 3, 2, 4, 2)\n",
        "print(\"the number 2 has appeared\", t_ple.count(2), \"times\")"
      ],
      "metadata": {
        "colab": {
          "base_uri": "https://localhost:8080/"
        },
        "id": "GdnCOt9VulBb",
        "outputId": "483c3336-8f73-4667-90d4-9f015b729c7e"
      },
      "execution_count": 20,
      "outputs": [
        {
          "output_type": "stream",
          "name": "stdout",
          "text": [
            "the number 2 has appeared 3 times\n"
          ]
        }
      ]
    },
    {
      "cell_type": "markdown",
      "source": [
        "21. Write a code to find the index of the element \"cat\" in the tuple ('dog', 'cat', 'rabbit')."
      ],
      "metadata": {
        "id": "Dp9kW4R1uolY"
      }
    },
    {
      "cell_type": "code",
      "source": [
        "animals = ('dog', 'cat', 'rabbit')\n",
        "print(\"the index of the element cat is\",animals.index(\"cat\"))"
      ],
      "metadata": {
        "colab": {
          "base_uri": "https://localhost:8080/"
        },
        "id": "JV4iTbV7urIU",
        "outputId": "f072efe8-d73a-4de4-87d8-e27c46a11fa9"
      },
      "execution_count": 21,
      "outputs": [
        {
          "output_type": "stream",
          "name": "stdout",
          "text": [
            "the index of the element cat is 1\n"
          ]
        }
      ]
    },
    {
      "cell_type": "markdown",
      "source": [
        "22. Write a code to check if the element \"banana\" is in the tuple ('apple', 'orange', 'banana')."
      ],
      "metadata": {
        "id": "lL0AsnwQuwiB"
      }
    },
    {
      "cell_type": "code",
      "source": [
        "fruits = ('apple', 'orange', 'banana')\n",
        "if \"banana\" in fruits:\n",
        "  print(\"yes\")\n",
        "else:\n",
        "  print(\"no\")"
      ],
      "metadata": {
        "colab": {
          "base_uri": "https://localhost:8080/"
        },
        "id": "zzsyXa9luz9h",
        "outputId": "df618230-5c4e-44ab-8dd6-85618d52a724"
      },
      "execution_count": 22,
      "outputs": [
        {
          "output_type": "stream",
          "name": "stdout",
          "text": [
            "yes\n"
          ]
        }
      ]
    },
    {
      "cell_type": "markdown",
      "source": [
        "23. Write a code to create a set with the elements 1, 2, 3, 4, 5 and print it."
      ],
      "metadata": {
        "id": "HC_HoEZbu3Wg"
      }
    },
    {
      "cell_type": "code",
      "source": [
        "s_t = {1,2,3,4,5}\n",
        "print(s_t)"
      ],
      "metadata": {
        "colab": {
          "base_uri": "https://localhost:8080/"
        },
        "id": "2flzCmsDu6fL",
        "outputId": "d73247c8-45e5-4b11-dfbd-c23605572683"
      },
      "execution_count": 23,
      "outputs": [
        {
          "output_type": "stream",
          "name": "stdout",
          "text": [
            "{1, 2, 3, 4, 5}\n"
          ]
        }
      ]
    },
    {
      "cell_type": "markdown",
      "source": [
        "24. Write a code to add the element 6 to the set {1, 2, 3, 4}."
      ],
      "metadata": {
        "id": "wGcrPTJku9eA"
      }
    },
    {
      "cell_type": "code",
      "source": [
        "s_t = {1, 2, 3, 4}\n",
        "s_t.add(6)\n",
        "print(s_t)"
      ],
      "metadata": {
        "colab": {
          "base_uri": "https://localhost:8080/"
        },
        "id": "E-vYGFpQvAyb",
        "outputId": "2ced8577-94a3-41b8-80e9-5a2fcd89392f"
      },
      "execution_count": 25,
      "outputs": [
        {
          "output_type": "stream",
          "name": "stdout",
          "text": [
            "{1, 2, 3, 4, 6}\n"
          ]
        }
      ]
    }
  ]
}